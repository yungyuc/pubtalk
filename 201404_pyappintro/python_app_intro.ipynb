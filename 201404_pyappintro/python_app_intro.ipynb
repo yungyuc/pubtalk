{
 "metadata": {
  "name": ""
 },
 "nbformat": 3,
 "nbformat_minor": 0,
 "worksheets": [
  {
   "cells": [
    {
     "cell_type": "heading",
     "level": 1,
     "metadata": {},
     "source": [
      "What is Python"
     ]
    },
    {
     "cell_type": "markdown",
     "metadata": {},
     "source": [
      "Python is a general-purpose programming language and has a full spectrum of applications, including but not limited to:\n",
      "\n",
      "- web programming: https://www.djangoproject.com/\n",
      "- hardware definition language: http://www.myhdl.org/\n",
      "- sysadmin: http://docs.fabfile.org/en/1.8/\n",
      "- documenting: http://sphinx-doc.org/\n",
      "- scientific computing: http://pandas.pydata.org/\n",
      "- so on and so forth\n",
      "\n",
      "Currently there are 41,773 packages available at the Python Package Index (PyPI: https://pypi.python.org/pypi).\n",
      "\n",
      "It was originally developed by Guide von Rossum in 1991.  It uses a permissive license and allows commercial use."
     ]
    },
    {
     "cell_type": "heading",
     "level": 1,
     "metadata": {},
     "source": [
      "How to Use Python"
     ]
    },
    {
     "cell_type": "markdown",
     "metadata": {},
     "source": [
      "The simpliest way for engineers: Anaconda (https://store.continuum.io/cshop/anaconda/).  It contains 100+ pre-installed (Python and non-Python) packages.  You can do almost anything with it."
     ]
    },
    {
     "cell_type": "code",
     "collapsed": false,
     "input": [
      "# import numpy and matplotlib for fancy plotting.\n",
      "import numpy as np\n",
      "import pylab"
     ],
     "language": "python",
     "metadata": {},
     "outputs": [],
     "prompt_number": 1
    },
    {
     "cell_type": "code",
     "collapsed": false,
     "input": [
      "# let's draw a sinusoidal with some noise.\n",
      "xdata = np.linspace(0, 4.0, 100)\n",
      "pylab.plot(xdata,\n",
      "           sin(xdata*np.pi)+np.random.random(xdata.shape[0]))\n",
      "pylab.xlabel('x')\n",
      "pylab.ylabel('y')\n",
      "pylab.show()"
     ],
     "language": "python",
     "metadata": {},
     "outputs": [
      {
       "metadata": {},
       "output_type": "display_data",
       "png": "[encoded data removed]",
       "text": [
        "<matplotlib.figure.Figure at 0x105ddac10>"
       ]
      }
     ],
     "prompt_number": 2
    },
    {
     "cell_type": "heading",
     "level": 1,
     "metadata": {},
     "source": [
      "Python Basic Syntax"
     ]
    },
    {
     "cell_type": "markdown",
     "metadata": {},
     "source": [
      "Python has a clean and easy-to-learn syntax.  Basically one doesn't need to intentionally learn it because it's as intuitive as pseudo code.  We can start with useful built-in primitives and containers."
     ]
    },
    {
     "cell_type": "code",
     "collapsed": false,
     "input": [
      "# use \"assert\" statement to demonstrate selected primitive types.\n",
      "assert isinstance(1, int) # an integer.\n",
      "assert isinstance(3.5, float) # a floating-point (double-precision)."
     ],
     "language": "python",
     "metadata": {},
     "outputs": [],
     "prompt_number": 3
    },
    {
     "cell_type": "code",
     "collapsed": false,
     "input": [
      "# construct a list with numbers.\n",
      "lst = [1, 2, 3, 4, 5.5]\n",
      "assert 5 == len(lst)\n",
      "assert isinstance(lst, list)"
     ],
     "language": "python",
     "metadata": {},
     "outputs": [],
     "prompt_number": 4
    }
   ],
   "metadata": {}
  }
 ]
}