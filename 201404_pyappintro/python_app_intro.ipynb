{
 "metadata": {
  "name": ""
 },
 "nbformat": 3,
 "nbformat_minor": 0,
 "worksheets": [
  {
   "cells": [
    {
     "cell_type": "heading",
     "level": 1,
     "metadata": {},
     "source": [
      "What is Python"
     ]
    },
    {
     "cell_type": "markdown",
     "metadata": {},
     "source": [
      "Python is a general-purpose programming language and has a full spectrum of applications, including but not limited to:\n",
      "\n",
      "- web programming: https://www.djangoproject.com/\n",
      "- hardware definition language: http://www.myhdl.org/\n",
      "- sysadmin: http://docs.fabfile.org/en/1.8/\n",
      "- documenting: http://sphinx-doc.org/\n",
      "- scientific computing: http://pandas.pydata.org/\n",
      "- so on and so forth\n",
      "\n",
      "Currently there are 41,773 packages available at the Python Package Index (PyPI: https://pypi.python.org/pypi).\n",
      "\n",
      "It was originally developed by Guide von Rossum in 1991.  It uses a permissive license and allows commercial use."
     ]
    },
    {
     "cell_type": "heading",
     "level": 1,
     "metadata": {},
     "source": [
      "How to Use Python"
     ]
    },
    {
     "cell_type": "markdown",
     "metadata": {},
     "source": [
      "The simpliest way for engineers: Anaconda (https://store.continuum.io/cshop/anaconda/).  It contains 100+ pre-installed (Python and non-Python) packages.  You can do almost anything with it."
     ]
    },
    {
     "cell_type": "code",
     "collapsed": false,
     "input": [
      "from __future__ import print_function, division\n",
      "# import numpy and matplotlib for fancy plotting.\n",
      "import numpy as np\n",
      "import pylab"
     ],
     "language": "python",
     "metadata": {},
     "outputs": [],
     "prompt_number": 1
    },
    {
     "cell_type": "code",
     "collapsed": false,
     "input": [
      "# let's draw a sinusoidal with some noise.\n",
      "xdata = np.linspace(0, 4.0, 100)\n",
      "pylab.plot(xdata,\n",
      "           sin(xdata*np.pi)+np.random.random(xdata.shape[0]))\n",
      "pylab.xlabel('x')\n",
      "pylab.ylabel('y')\n",
      "pylab.show()"
     ],
     "language": "python",
     "metadata": {},
     "outputs": [
      {
       "metadata": {},
       "output_type": "display_data",
       "png": "[encoded data removed]",
       "text": [
        "<matplotlib.figure.Figure at 0x105ec7c10>"
       ]
      }
     ],
     "prompt_number": 2
    },
    {
     "cell_type": "heading",
     "level": 1,
     "metadata": {},
     "source": [
      "Python Basic Syntax"
     ]
    },
    {
     "cell_type": "markdown",
     "metadata": {},
     "source": [
      "Python has a clean and easy-to-learn syntax.  It's as intuitive as pseudo code and one doesn't need to learn it consciously.  We can start with useful built-in primitives and containers."
     ]
    },
    {
     "cell_type": "heading",
     "level": 2,
     "metadata": {},
     "source": [
      "Numbers and Lists"
     ]
    },
    {
     "cell_type": "markdown",
     "metadata": {},
     "source": [
      "The following code show you how to represent numbers:"
     ]
    },
    {
     "cell_type": "code",
     "collapsed": false,
     "input": [
      "print(type(1)) # an integer.\n",
      "print(type(3.5)) # a floating-point (double-precision)."
     ],
     "language": "python",
     "metadata": {},
     "outputs": [
      {
       "output_type": "stream",
       "stream": "stdout",
       "text": [
        "<type 'int'>\n",
        "<type 'float'>\n"
       ]
      }
     ],
     "prompt_number": 3
    },
    {
     "cell_type": "markdown",
     "metadata": {},
     "source": [
      "Then let's see how to put some numbers into a list:"
     ]
    },
    {
     "cell_type": "code",
     "collapsed": false,
     "input": [
      "# construct a list with numbers.\n",
      "lst = [1, 2, 3, 4, 5.5]\n",
      "print(\"the type is\", type(lst)) # see the type?\n",
      "print(\"the length is\", len(lst)) # usually containers support getting its length."
     ],
     "language": "python",
     "metadata": {},
     "outputs": [
      {
       "output_type": "stream",
       "stream": "stdout",
       "text": [
        "the type is <type 'list'>\n",
        "the length is 5\n"
       ]
      }
     ],
     "prompt_number": 4
    },
    {
     "cell_type": "heading",
     "level": 2,
     "metadata": {},
     "source": [
      "Strings"
     ]
    },
    {
     "cell_type": "markdown",
     "metadata": {},
     "source": [
      "There are two representations of strings.  The first is using quotation marks (single or double quota):"
     ]
    },
    {
     "cell_type": "code",
     "collapsed": false,
     "input": [
      "str_a = 'this is a string'\n",
      "str_b = \"this is a string\"\n",
      "print(str_a, str_b)\n",
      "print(str_a == str_b)"
     ],
     "language": "python",
     "metadata": {},
     "outputs": [
      {
       "output_type": "stream",
       "stream": "stdout",
       "text": [
        "this is a string this is a string\n",
        "True\n"
       ]
      }
     ],
     "prompt_number": 5
    },
    {
     "cell_type": "markdown",
     "metadata": {},
     "source": [
      "For a long block of strings, Python provides string literals:"
     ]
    },
    {
     "cell_type": "code",
     "collapsed": false,
     "input": [
      "strblk_a = '''This is a \n",
      "string\n",
      "literal\n",
      "block'''\n",
      "strblk_b = \"\"\"This is a\n",
      "string\n",
      "literal\n",
      "block\"\"\"\n",
      "print(strblk_a, strblk_b)\n",
      "print(strblk_a == strblk_b)\n",
      "print(type(str_a), type(strblk_a))"
     ],
     "language": "python",
     "metadata": {},
     "outputs": [
      {
       "output_type": "stream",
       "stream": "stdout",
       "text": [
        "This is a \n",
        "string\n",
        "literal\n",
        "block This is a\n",
        "string\n",
        "literal\n",
        "block\n",
        "False\n",
        "<type 'str'> <type 'str'>\n"
       ]
      }
     ],
     "prompt_number": 6
    },
    {
     "cell_type": "markdown",
     "metadata": {},
     "source": [
      "No matter how strings are represented, they are all of the type 'str'."
     ]
    },
    {
     "cell_type": "markdown",
     "metadata": {},
     "source": [
      "There are convenient string methods attached to string objects:"
     ]
    },
    {
     "cell_type": "code",
     "collapsed": false,
     "input": [
      "# splitting.\n",
      "for token in str_a.split():\n",
      "    print(token)"
     ],
     "language": "python",
     "metadata": {},
     "outputs": [
      {
       "output_type": "stream",
       "stream": "stdout",
       "text": [
        "this\n",
        "is\n",
        "a\n",
        "string\n"
       ]
      }
     ],
     "prompt_number": 7
    },
    {
     "cell_type": "code",
     "collapsed": false,
     "input": [
      "print(str_a.capitalize())"
     ],
     "language": "python",
     "metadata": {},
     "outputs": [
      {
       "output_type": "stream",
       "stream": "stdout",
       "text": [
        "This is a string\n"
       ]
      }
     ],
     "prompt_number": 8
    },
    {
     "cell_type": "heading",
     "level": 2,
     "metadata": {},
     "source": [
      "List Comprehension"
     ]
    },
    {
     "cell_type": "markdown",
     "metadata": {},
     "source": [
      "Python supports a convenient and powerful syntactic construct called list comprehension, which is commonly seen in functional-programming languages.  List comprehension effectively simplifies tedious code and increases the readibility, **if used correctly**.\n",
      "\n",
      "Here is a simple example of using list comprehension:"
     ]
    },
    {
     "cell_type": "code",
     "collapsed": false,
     "input": [
      "# use list comprehension for advanced string process.\n",
      "print(' '.join([tok.capitalize() for tok in str_a.split()]))"
     ],
     "language": "python",
     "metadata": {},
     "outputs": [
      {
       "output_type": "stream",
       "stream": "stdout",
       "text": [
        "This Is A String\n"
       ]
      }
     ],
     "prompt_number": 9
    },
    {
     "cell_type": "markdown",
     "metadata": {},
     "source": [
      "Compare the list-comprehension version to the loop version:"
     ]
    },
    {
     "cell_type": "code",
     "collapsed": false,
     "input": [
      "# use list and loop for the same operation.\n",
      "tokens = []\n",
      "for tok in str_a.split():\n",
      "    tokens.append(tok.capitalize())\n",
      "print(' '.join(tokens))"
     ],
     "language": "python",
     "metadata": {},
     "outputs": [
      {
       "output_type": "stream",
       "stream": "stdout",
       "text": [
        "This Is A String\n"
       ]
      }
     ],
     "prompt_number": 10
    },
    {
     "cell_type": "markdown",
     "metadata": {},
     "source": [
      "As we can see, the list comprehension is much more concise than the loop.  A rule of thumb of using list comprehension is to keep it in one line (each line shouldn't be longer than 79 characters).  Usually we'll get better code by following that rule."
     ]
    },
    {
     "cell_type": "markdown",
     "metadata": {},
     "source": [
      "List comprehension works on any iterable:"
     ]
    },
    {
     "cell_type": "code",
     "collapsed": false,
     "input": [
      "# get us some numbers for the next lottery game!\n",
      "lucky_numbers = ['%03d'%val for val in np.random.randint(1, 1000, 10)]\n",
      "print('Lucky numbers:', ', '.join(lucky_numbers))"
     ],
     "language": "python",
     "metadata": {},
     "outputs": [
      {
       "output_type": "stream",
       "stream": "stdout",
       "text": [
        "Lucky numbers: 145, 801, 216, 038, 577, 550, 109, 567, 290, 399\n"
       ]
      }
     ],
     "prompt_number": 11
    },
    {
     "cell_type": "markdown",
     "metadata": {},
     "source": [
      "If combined with other functions for iterables, list comprehension will be more powerful.  Let's try sorted():"
     ]
    },
    {
     "cell_type": "code",
     "collapsed": false,
     "input": [
      "# get sorted random numbers.\n",
      "lucky_numbers = ['%03d'%val for val in np.random.randint(1, 1000, 10)]\n",
      "lucky_numbers = sorted(lucky_numbers)\n",
      "print('Lucky numbers:', ', '.join(lucky_numbers))"
     ],
     "language": "python",
     "metadata": {},
     "outputs": [
      {
       "output_type": "stream",
       "stream": "stdout",
       "text": [
        "Lucky numbers: 012, 022, 239, 368, 610, 745, 769, 789, 886, 886\n"
       ]
      }
     ],
     "prompt_number": 12
    },
    {
     "cell_type": "code",
     "collapsed": false,
     "input": [
      "# one-liner?  no problem, but a bit ugly.\n",
      "print('Lucky numbers:', ', '.join(sorted(['%03d'%val for val in np.random.randint(1, 1000, 10)])))"
     ],
     "language": "python",
     "metadata": {},
     "outputs": [
      {
       "output_type": "stream",
       "stream": "stdout",
       "text": [
        "Lucky numbers: 001, 170, 201, 254, 269, 370, 437, 562, 602, 930\n"
       ]
      }
     ],
     "prompt_number": 13
    },
    {
     "cell_type": "heading",
     "level": 2,
     "metadata": {},
     "source": [
      "Dictionary"
     ]
    },
    {
     "cell_type": "markdown",
     "metadata": {},
     "source": [
      "Python is implemented upon dictionary (also known as mapping or hash).  Dictionary is used to form the namespace of Python, and is the most fundamental element of the language.  If you can understand it, everything will start to make sense to you.\n",
      "\n",
      "There are many ways to build a dictionary.  For simple script the easiest way is to hardcode with curled brackets:"
     ]
    },
    {
     "cell_type": "code",
     "collapsed": false,
     "input": [
      "# hardcode a dictionary.\n",
      "dct = {'number': 1, 'real': 1.3, 'line': 'this is a string'}\n",
      "print(\"All keys must be hashable (in this example they are str):\", [type(key) for key in dct])\n",
      "print(\"Values can be of any type:\", [(key, dct[key], type(dct[key])) for key in dct])"
     ],
     "language": "python",
     "metadata": {},
     "outputs": [
      {
       "output_type": "stream",
       "stream": "stdout",
       "text": [
        "All keys must be hashable (in this example they are str): [<type 'str'>, <type 'str'>, <type 'str'>]\n",
        "Values can be of any type: [('real', 1.3, <type 'float'>), ('line', 'this is a string', <type 'str'>), ('number', 1, <type 'int'>)]\n"
       ]
      }
     ],
     "prompt_number": 14
    },
    {
     "cell_type": "markdown",
     "metadata": {},
     "source": [
      "Often we'll like to store generated data in a dictionary by using the constructor:"
     ]
    },
    {
     "cell_type": "code",
     "collapsed": false,
     "input": [
      "# use the dict constructor for creating a dictionary.\n",
      "print(dict([(chr(val), val) for val in range(97, 97+26)]))"
     ],
     "language": "python",
     "metadata": {},
     "outputs": [
      {
       "output_type": "stream",
       "stream": "stdout",
       "text": [
        "{'a': 97, 'c': 99, 'b': 98, 'e': 101, 'd': 100, 'g': 103, 'f': 102, 'i': 105, 'h': 104, 'k': 107, 'j': 106, 'm': 109, 'l': 108, 'o': 111, 'n': 110, 'q': 113, 'p': 112, 's': 115, 'r': 114, 'u': 117, 't': 116, 'w': 119, 'v': 118, 'y': 121, 'x': 120, 'z': 122}\n"
       ]
      }
     ],
     "prompt_number": 17
    },
    {
     "cell_type": "heading",
     "level": 1,
     "metadata": {},
     "source": [
      "Singular Value Decomposition"
     ]
    },
    {
     "cell_type": "code",
     "collapsed": false,
     "input": [],
     "language": "python",
     "metadata": {},
     "outputs": []
    },
    {
     "cell_type": "heading",
     "level": 1,
     "metadata": {},
     "source": [
      "Related Links"
     ]
    },
    {
     "cell_type": "markdown",
     "metadata": {},
     "source": [
      "- Python official web site: https://www.python.org/\n",
      "- Learn Python the Hard Way (self-learning materials for experienced programmers): http://learnpythonthehardway.org/"
     ]
    }
   ],
   "metadata": {}
  }
 ]
}