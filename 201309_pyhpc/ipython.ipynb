{
 "metadata": {
  "name": ""
 },
 "nbformat": 3,
 "nbformat_minor": 0,
 "worksheets": [
  {
   "cells": [
    {
     "cell_type": "code",
     "collapsed": false,
     "input": [
      "print \"iPython provide the most flexible way to perform calculation and present the result\""
     ],
     "language": "python",
     "metadata": {},
     "outputs": [
      {
       "output_type": "stream",
       "stream": "stdout",
       "text": [
        "iPython provide the most flexible way to perform calculation and present the result\n"
       ]
      }
     ],
     "prompt_number": 1
    },
    {
     "cell_type": "code",
     "collapsed": false,
     "input": [
      "print \"An ipython notebook can be stored and redistributed with ease\""
     ],
     "language": "python",
     "metadata": {},
     "outputs": [
      {
       "output_type": "stream",
       "stream": "stdout",
       "text": [
        "An ipython notebook can be stored and redistributed with ease\n"
       ]
      }
     ],
     "prompt_number": 2
    },
    {
     "cell_type": "markdown",
     "metadata": {},
     "source": [
      "You can write mathematical expression like $\\sin(x)$ or $\\sum_{i=1}^N a_i$.  A standard LaTeX environment is also accepted:\n",
      "\\begin{align}\n",
      "  A = \\left(\\begin{array}{cccc}\n",
      "    a_{11} & a_{12} & \\cdots & a_{1n} \\\\\n",
      "    a_{21} & a_{22} & \\cdots & a_{2n} \\\\\n",
      "    \\vdots & \\vdots & \\ddots & \\vdots \\\\\n",
      "    a_{n1} & a_{n2} & \\cdots & a_{nn}\n",
      "  \\end{array}\\right)\n",
      "\\end{align}"
     ]
    },
    {
     "cell_type": "code",
     "collapsed": false,
     "input": [],
     "language": "python",
     "metadata": {},
     "outputs": []
    }
   ],
   "metadata": {}
  }
 ]
}